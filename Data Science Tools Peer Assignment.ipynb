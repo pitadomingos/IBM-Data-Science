{
 "cells": [
  {
   "cell_type": "markdown",
   "id": "50a24741",
   "metadata": {},
   "source": [
    "My Jupyter Notebook on IBM Watson Studio"
   ]
  },
  {
   "cell_type": "markdown",
   "id": "4c4a6d76",
   "metadata": {},
   "source": [
    "Pita Antonio Domingos\n",
    "Currently I am working as Contract Coordinator"
   ]
  },
  {
   "cell_type": "markdown",
   "id": "58563468",
   "metadata": {},
   "source": [
    "*I am interested in Data Science because I have to work with data and I have been working with data in my whole career life. I started as Data Capture\n",
    "*clerk at a Mining Company and from there the love of data, creating graphs and analyzing has been my life hobbie"
   ]
  },
  {
   "cell_type": "markdown",
   "id": "949d1d99",
   "metadata": {},
   "source": [
    "# The code will calculate your BMI"
   ]
  },
  {
   "cell_type": "code",
   "execution_count": null,
   "id": "41edff91",
   "metadata": {},
   "outputs": [
    {
     "name": "stdout",
     "output_type": "stream",
     "text": [
      "WELCOME TO THE BMI CALCULATOR\n",
      "Created by  Pita Domingos\n"
     ]
    }
   ],
   "source": [
    "welcome_msg = (\"WELCOME TO THE BMI CALCULATOR\")\n",
    "creator_name = (\"Pita Domingos\")\n",
    "print(welcome_msg)\n",
    "print(\"Created by \", creator_name)\n",
    "\n",
    "name = input(\"Enter your full name: \")\n",
    "height = float(input(\"Enter your height in meters: \"))\n",
    "weight = float(input(\"Enter your weight in kilograms: \"))\n",
    "\n",
    "bmi = weight / height **2\n",
    "\n",
    "if bmi < 20:\n",
    "    print(name, \", \", \"your BMI is \", int(bmi), \"and you are underweight\")\n",
    "elif bmi < 31:\n",
    "    print(name, \", \", \"your BMI is \", int(bmi), \"and your are TYPE I obesses\")\n",
    "elif bmi < 35:\n",
    "    print(name, \", \", \"your BMI is \", int(bmi), \"and your are TYPE II obesses\")\n",
    "elif bmi > 31:\n",
    "    print(name, \", \", \"your BMI is \", int(bmi), \"and your are TYPE III obesses\")\n",
    "else:\n",
    "    loop"
   ]
  },
  {
   "cell_type": "code",
   "execution_count": null,
   "id": "da9e4710",
   "metadata": {},
   "outputs": [],
   "source": []
  }
 ],
 "metadata": {
  "kernelspec": {
   "display_name": "Python 3 (ipykernel)",
   "language": "python",
   "name": "python3"
  },
  "language_info": {
   "codemirror_mode": {
    "name": "ipython",
    "version": 3
   },
   "file_extension": ".py",
   "mimetype": "text/x-python",
   "name": "python",
   "nbconvert_exporter": "python",
   "pygments_lexer": "ipython3",
   "version": "3.9.7"
  }
 },
 "nbformat": 4,
 "nbformat_minor": 5
}
